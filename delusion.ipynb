{
 "cells": [
  {
   "cell_type": "code",
   "execution_count": 11,
   "id": "9d6aba3b",
   "metadata": {},
   "outputs": [],
   "source": [
    "import pyvisa as visa#import pyvisa as pv #from pyvisa import *\n",
    "from typing import List\n",
    "import ctypes"
   ]
  },
  {
   "cell_type": "code",
   "execution_count": 12,
   "id": "c035a0e7",
   "metadata": {},
   "outputs": [],
   "source": [
    "from nidmm import *"
   ]
  },
  {
   "cell_type": "code",
   "execution_count": 13,
   "id": "2013b0d4",
   "metadata": {},
   "outputs": [],
   "source": [
    "from nimodinst._visatype import * #import nimodinst._visatype as _visatype"
   ]
  },
  {
   "cell_type": "code",
   "execution_count": 14,
   "id": "311dd697",
   "metadata": {},
   "outputs": [],
   "source": [
    "#флаг остановки программы\n",
    "Stop_program = 0\n",
    "#функция настройки приборов\n",
    "# rmSession: ViSession\n",
    "# scope: ViSession\n",
    "# gen: ViSession #Объект сессии(общий, с осцилограффом, с генератором)\n",
    "# resourceList: List[str]   #ViFindList  #Объект для записи всех найденных устройств\n",
    "# numOSC: ViUInt32\n",
    "# numGEN: ViUInt32 #Объект для записи номера устройства(осцилографа, генератора)\n",
    "# status: ViStatus #Объект для записи статуса выполняемой команды\n",
    "# readOSC:str#=[None]*64 #константа для записи ответа от осцилограффа\n",
    "# readGEN:str#=[None]*64 #константа для записи ответа от генератора\n",
    "# usbOSC:str #Константа для записи имени осцилограффа(пути до осцилографа?)\n",
    "# usbGEN:str #Константа для записи имени генератора(пути до генератора?)"
   ]
  },
  {
   "cell_type": "code",
   "execution_count": 20,
   "id": "94e5c7b3",
   "metadata": {},
   "outputs": [],
   "source": [
    "def SettingUpDevices():\n",
    "    #Открываем сессию с менеджером ресурсов\n",
    "\n",
    "    rm = visa.ResourceManager()\n",
    "    rm.list_resources()\n",
    "    #('ASRL1::INSTR', 'ASRL2::INSTR', 'GPIB0::14::INSTR')\n",
    "    #my_instrument = rm.open_resource('GPIB0::14::INSTR')\n",
    "    #print(my_instrument.query('*IDN?'))\n",
    "    \n",
    "    scope = rm.open_resource(\"?*USB?*INSTR{VI_ATTR_MANF_ID==0x1AB1 && VI_ATTR_MODEL_CODE==0x517}\")\n",
    "    scope.write(\"*rst; status:preset; *cls\")#сброс настроек\n",
    "    \n",
    "    if (success > StatusCode):\n",
    "        print(\"ERROR_OSC Oscilloscope not found\\n\")\n",
    "        Stop_program = 1\n",
    "    else: print(\"Oscilloscope - OK\\n\")\n",
    "\n",
    "  #Ищем ЮСБ генератор(модель генератора указываем в аргументе)\n",
    "    gen = rm.open_resource(\"?*USB?*INSTR{VI_ATTR_MANF_ID==0x1AB1 && VI_ATTR_MODEL_CODE==0x642}\")\n",
    "    gen.write(\"*rst; status:preset; *cls\")#сброс настроек\n",
    "    \n",
    "    if (success > StatusCode):\n",
    "        print(\"ERROR_GEN Generator not found\\n\")\n",
    "        Stop_program = 1\n",
    "    else: print(\"Generator - OK\\n\")\n",
    "\n",
    "  #Открываем сессию с осцилографом\n",
    "    #status = viOpen(rmSession, usbOSC, VI_NULL, VI_NULL, scope)\n",
    "    if (scope.session < 0):\n",
    "        print(\"ERROR_OSC Session didnt open \\n\")\n",
    "        Stop_program = 1\n",
    "    else: print(\"Oscilloscope session - OK\\n\")\n",
    "\n",
    "  #Открываем сессию с генератором\n",
    "    #status = viOpen(rmSession, usbGEN, VI_NULL, VI_NULL, gen)\n",
    "    if (gen.session < 0):\n",
    "        printf(\"ERROR_GEN Generator session didnt open\\n\")\n",
    "        Stop_program = 1\n",
    "    else: print(\"Generator session - OK\\n\")\n",
    "\n",
    "\n",
    "  #НАСТРОЙКА ОСЦИЛЛОГРАФА\n",
    "\n",
    "  #Останавливаем осцилограф для настройки (странно, но это надо сделать иначе запись потом не работает)\n",
    "    scope.write(\":STOP\\n\")\n",
    "    #viWrite(scope, \":STOP\\n\", 512, VI_NULL)\n",
    "    \n",
    "    scope.write(\"status:measurement:enable 512; *sre 1\")#мб фигня и надо не так, но не надо ремень, мы не разобрались с 512(((\n",
    "  #Настройка записи отсчетов в память устройства(осцилограф)\n",
    "    scope.write(\":WAV:MODE NORMal\\n\")\n",
    "    #viWrite(scope, \":WAV:MODE NORMal\\n\", 512, VI_NULL)\n",
    "\n",
    "  #Настройка типа записываемых данных(осцилограф)\n",
    "    scope.write(\":WAV:FORM ASCII\\n\")\n",
    "    #viWrite(scope, \":WAV:FORM ASCII\\n\", 512, VI_NULL)\n",
    "\n",
    "  #Настройка количества хранимых данных(осцилограф)\n",
    "    scope.write(\":WAV:STOP 1200\\n\")\n",
    "    #viWrite(scope, \":WAV:STOP 1200\\n\", 512, VI_NULL)\n",
    "\n",
    "  #Настройка триггера по каналу EXT(должно сработать)(осцилограф)\n",
    "    #viWrite(scope, (ViBuf)\":TRIGger:EDGe:SOURce EXT\\n\", 512, VI_NULL)\n",
    "    scope.write(\":TRIGger:EDGe:SOURce EXT\\n\")\n",
    "\n",
    "  #Настройка типа работы по триггеру одиночный мод *останавливается по записи 12000 отсчетов включится по следующему триггеру*(осцилограф)\n",
    "  #viWrite(scope, (ViBuf)\":TRIGger:SWEep SINGle\\n\", 512, VI_NULL)\n",
    "  #viWrite(scope, (ViBuf)\":TRIGger:SWEep NORMal\\n\", 512, VI_NULL)\n",
    "    scope.write(\":TRIGger:SWEep NORMal\\n\")\n",
    "\n",
    "  #Запускаем осциллограф\n",
    "    scope.write(\":RUN\\n\")\n",
    "    #viWrite(scope, \":RUN\\n\", 512, VI_NULL)\n",
    "\n",
    "\n",
    "  #НАСТРОЙКА ГЕНЕРАТОРА\n",
    "  #Выключаем канал генератора для настройки\n",
    "    gen.write(\":OUTP1 OFF\\n\")\n",
    "    #viWrite(gen, \":OUTP1 OFF\\n\", 512, VI_NULL)\n",
    "                \n",
    "    gen.write(\"status:measurement:enable 512; *sre 1\")\n",
    "  #Настройка типа сигнала *синусоида, частота Гц, амплитуда В, задержка, начальная фаза*(генератор) \n",
    "    gen.write(\":SOUR1:APPL:SIN 3200000,5,0,0\\n\")\n",
    "    #viWrite(gen, \":SOUR1:APPL:SIN 3200000,5,0,0\\n\", 512, VI_NULL)\n",
    "    gen.write(\":SOUR1:BURSt ON\\n\")\n",
    "    #viWrite(gen, \":SOUR1:BURSt ON\\n\", 512, VI_NULL)\n",
    "#Настройка импульсного режима для первого канала *количество периодов синусоиды*(генератор)\n",
    "    gen.write(\":SOUR1:BURSt:NCYCles 10\\n\")\n",
    "    #viWrite(gen, \":SOUR1:BURSt:NCYCles 10\\n\", 512, VI_NULL)\n",
    "\n",
    "  #Настройка импульсного режима для первого канала (генератор)\n",
    "    gen.write(\":SOUR1:BURSt:INT:PERiod 0.01\\n\")\n",
    "    #viWrite(gen, \":SOUR1:BURSt:INT:PERiod 0.01\\n\", 512, VI_NULL)\n",
    "\n",
    "  #Настройка импульсного режима для первого канала *запуск вручную*(генератор)\n",
    "  #viWrite(gen, (ViBuf)\":SOUR1:BURSt:TRIG:SOUR MANual\\n\", 512, VI_NULL)\n",
    "\n",
    "  #Настройка синхронного первого канала *Для выдачи синхросигнала осцилографу*(генератор)\n",
    "    gen.write(\":OUTP1:SYNC ON\\n\")\n",
    "    #viWrite(gen, \":OUTP1:SYNC ON\\n\", 512, VI_NULL)\n",
    "\n",
    "    Sleep(1000)\n",
    "\n",
    "  #Включаем генератор\n",
    "    gen.write(\":OUTP1 ON\\nn\")\n",
    "    #viWrite(gen, \":OUTP1 ON\\n\", 512, VI_NULL)\n",
    "    gen.write(\":OUTP1:TRIG:DEL 0.000000083\\n\")\n",
    "    #viWrite(gen, \":OUTP1:TRIG:DEL 0.000000083\\n\", 512, VI_NULL) #сдвигаем триггер на 83 нс\n",
    "    gen.write(\":ACQuire:AVERages 128\\n\")         \n",
    "    #viWrite(gen, \":ACQuire:AVERages 128\\n\", 512, VI_NULL) #усреднение по 8 осциллограммам\n",
    "#функция освобождения приборов\n"
   ]
  },
  {
   "cell_type": "code",
   "execution_count": 21,
   "id": "b6992c27",
   "metadata": {},
   "outputs": [],
   "source": [
    "def devices_out():\n",
    "  #Закрываем сессии с устройствами\n",
    "    viClose(scope)\n",
    "    viClose(gen)\n",
    "  #Закрываем сессию с ресурсным менеджером\n",
    "    viClose(rmSession)"
   ]
  },
  {
   "cell_type": "code",
   "execution_count": 19,
   "id": "ccdfcf1c",
   "metadata": {},
   "outputs": [
    {
     "ename": "VisaIOError",
     "evalue": "VI_ERROR_INV_RSRC_NAME (-1073807342): Invalid resource reference specified. Parsing error.",
     "output_type": "error",
     "traceback": [
      "\u001b[0;31m---------------------------------------------------------------------------\u001b[0m",
      "\u001b[0;31mInvalidResourceName\u001b[0m                       Traceback (most recent call last)",
      "File \u001b[0;32m~/.local/lib/python3.10/site-packages/pyvisa_py/highlevel.py:157\u001b[0m, in \u001b[0;36mPyVisaLibrary.open\u001b[0;34m(self, session, resource_name, access_mode, open_timeout)\u001b[0m\n\u001b[1;32m    156\u001b[0m \u001b[38;5;28;01mtry\u001b[39;00m:\n\u001b[0;32m--> 157\u001b[0m     parsed \u001b[38;5;241m=\u001b[39m \u001b[43mrname\u001b[49m\u001b[38;5;241;43m.\u001b[39;49m\u001b[43mparse_resource_name\u001b[49m\u001b[43m(\u001b[49m\u001b[43mresource_name\u001b[49m\u001b[43m)\u001b[49m\n\u001b[1;32m    158\u001b[0m \u001b[38;5;28;01mexcept\u001b[39;00m rname\u001b[38;5;241m.\u001b[39mInvalidResourceName:\n",
      "File \u001b[0;32m~/.local/lib/python3.10/site-packages/pyvisa/rname.py:231\u001b[0m, in \u001b[0;36m_ResourceNameBase.from_string\u001b[0;34m(cls, resource_name)\u001b[0m\n\u001b[1;32m    227\u001b[0m         \u001b[38;5;28;01mraise\u001b[39;00m InvalidResourceName\u001b[38;5;241m.\u001b[39mbad_syntax(\n\u001b[1;32m    228\u001b[0m             subclass\u001b[38;5;241m.\u001b[39m_visa_syntax, resource_name, ex\n\u001b[1;32m    229\u001b[0m         )\n\u001b[0;32m--> 231\u001b[0m \u001b[38;5;28;01mraise\u001b[39;00m InvalidResourceName(\n\u001b[1;32m    232\u001b[0m     \u001b[38;5;124m\"\u001b[39m\u001b[38;5;124mCould not parse \u001b[39m\u001b[38;5;132;01m%s\u001b[39;00m\u001b[38;5;124m: unknown interface type\u001b[39m\u001b[38;5;124m\"\u001b[39m \u001b[38;5;241m%\u001b[39m resource_name\n\u001b[1;32m    233\u001b[0m )\n",
      "\u001b[0;31mInvalidResourceName\u001b[0m: Could not parse ?*USB?*INSTR{VI_ATTR_MANF_ID==0x1AB1 && VI_ATTR_MODEL_CODE==0x517}: unknown interface type",
      "\nDuring handling of the above exception, another exception occurred:\n",
      "\u001b[0;31mVisaIOError\u001b[0m                               Traceback (most recent call last)",
      "Cell \u001b[0;32mIn[19], line 1\u001b[0m\n\u001b[0;32m----> 1\u001b[0m \u001b[43mSettingUpDevices\u001b[49m\u001b[43m(\u001b[49m\u001b[43m)\u001b[49m \u001b[38;5;66;03m#настраиваем приборы\u001b[39;00m\n\u001b[1;32m      2\u001b[0m devices_out() \u001b[38;5;66;03m#отпускаем приборы\u001b[39;00m\n",
      "Cell \u001b[0;32mIn[15], line 10\u001b[0m, in \u001b[0;36mSettingUpDevices\u001b[0;34m()\u001b[0m\n\u001b[1;32m      5\u001b[0m rm\u001b[38;5;241m.\u001b[39mlist_resources()\n\u001b[1;32m      6\u001b[0m \u001b[38;5;66;03m#('ASRL1::INSTR', 'ASRL2::INSTR', 'GPIB0::14::INSTR')\u001b[39;00m\n\u001b[1;32m      7\u001b[0m \u001b[38;5;66;03m#my_instrument = rm.open_resource('GPIB0::14::INSTR')\u001b[39;00m\n\u001b[1;32m      8\u001b[0m \u001b[38;5;66;03m#print(my_instrument.query('*IDN?'))\u001b[39;00m\n\u001b[0;32m---> 10\u001b[0m scope \u001b[38;5;241m=\u001b[39m \u001b[43mrm\u001b[49m\u001b[38;5;241;43m.\u001b[39;49m\u001b[43mopen_resource\u001b[49m\u001b[43m(\u001b[49m\u001b[38;5;124;43m\"\u001b[39;49m\u001b[38;5;124;43m?*USB?*INSTR\u001b[39;49m\u001b[38;5;124;43m{\u001b[39;49m\u001b[38;5;124;43mVI_ATTR_MANF_ID==0x1AB1 && VI_ATTR_MODEL_CODE==0x517}\u001b[39;49m\u001b[38;5;124;43m\"\u001b[39;49m\u001b[43m)\u001b[49m\n\u001b[1;32m     11\u001b[0m scope\u001b[38;5;241m.\u001b[39mwrite(\u001b[38;5;124m\"\u001b[39m\u001b[38;5;124m*rst; status:preset; *cls\u001b[39m\u001b[38;5;124m\"\u001b[39m)\u001b[38;5;66;03m#сброс настроек\u001b[39;00m\n\u001b[1;32m     13\u001b[0m \u001b[38;5;28;01mif\u001b[39;00m (success \u001b[38;5;241m>\u001b[39m StatusCode):\n",
      "File \u001b[0;32m~/.local/lib/python3.10/site-packages/pyvisa/highlevel.py:3292\u001b[0m, in \u001b[0;36mResourceManager.open_resource\u001b[0;34m(self, resource_name, access_mode, open_timeout, resource_pyclass, **kwargs)\u001b[0m\n\u001b[1;32m   3286\u001b[0m     \u001b[38;5;28;01mif\u001b[39;00m \u001b[38;5;129;01mnot\u001b[39;00m present:\n\u001b[1;32m   3287\u001b[0m         \u001b[38;5;28;01mraise\u001b[39;00m \u001b[38;5;167;01mValueError\u001b[39;00m(\n\u001b[1;32m   3288\u001b[0m             \u001b[38;5;124m\"\u001b[39m\u001b[38;5;132;01m%r\u001b[39;00m\u001b[38;5;124m is not a valid attribute for type \u001b[39m\u001b[38;5;132;01m%s\u001b[39;00m\u001b[38;5;124m\"\u001b[39m\n\u001b[1;32m   3289\u001b[0m             \u001b[38;5;241m%\u001b[39m (key, res\u001b[38;5;241m.\u001b[39m\u001b[38;5;18m__class__\u001b[39m\u001b[38;5;241m.\u001b[39m\u001b[38;5;18m__name__\u001b[39m)\n\u001b[1;32m   3290\u001b[0m         )\n\u001b[0;32m-> 3292\u001b[0m \u001b[43mres\u001b[49m\u001b[38;5;241;43m.\u001b[39;49m\u001b[43mopen\u001b[49m\u001b[43m(\u001b[49m\u001b[43maccess_mode\u001b[49m\u001b[43m,\u001b[49m\u001b[43m \u001b[49m\u001b[43mopen_timeout\u001b[49m\u001b[43m)\u001b[49m\n\u001b[1;32m   3294\u001b[0m \u001b[38;5;28;01mfor\u001b[39;00m key, value \u001b[38;5;129;01min\u001b[39;00m kwargs\u001b[38;5;241m.\u001b[39mitems():\n\u001b[1;32m   3295\u001b[0m     \u001b[38;5;28msetattr\u001b[39m(res, key, value)\n",
      "File \u001b[0;32m~/.local/lib/python3.10/site-packages/pyvisa/resources/resource.py:281\u001b[0m, in \u001b[0;36mResource.open\u001b[0;34m(self, access_mode, open_timeout)\u001b[0m\n\u001b[1;32m    277\u001b[0m logger\u001b[38;5;241m.\u001b[39mdebug(\u001b[38;5;124m\"\u001b[39m\u001b[38;5;132;01m%s\u001b[39;00m\u001b[38;5;124m - opening ...\u001b[39m\u001b[38;5;124m\"\u001b[39m, \u001b[38;5;28mself\u001b[39m\u001b[38;5;241m.\u001b[39m_resource_name, extra\u001b[38;5;241m=\u001b[39m\u001b[38;5;28mself\u001b[39m\u001b[38;5;241m.\u001b[39m_logging_extra)\n\u001b[1;32m    278\u001b[0m \u001b[38;5;28;01mwith\u001b[39;00m \u001b[38;5;28mself\u001b[39m\u001b[38;5;241m.\u001b[39m_resource_manager\u001b[38;5;241m.\u001b[39mignore_warning(\n\u001b[1;32m    279\u001b[0m     constants\u001b[38;5;241m.\u001b[39mStatusCode\u001b[38;5;241m.\u001b[39msuccess_device_not_present\n\u001b[1;32m    280\u001b[0m ):\n\u001b[0;32m--> 281\u001b[0m     \u001b[38;5;28mself\u001b[39m\u001b[38;5;241m.\u001b[39msession, status \u001b[38;5;241m=\u001b[39m \u001b[38;5;28;43mself\u001b[39;49m\u001b[38;5;241;43m.\u001b[39;49m\u001b[43m_resource_manager\u001b[49m\u001b[38;5;241;43m.\u001b[39;49m\u001b[43mopen_bare_resource\u001b[49m\u001b[43m(\u001b[49m\n\u001b[1;32m    282\u001b[0m \u001b[43m        \u001b[49m\u001b[38;5;28;43mself\u001b[39;49m\u001b[38;5;241;43m.\u001b[39;49m\u001b[43m_resource_name\u001b[49m\u001b[43m,\u001b[49m\u001b[43m \u001b[49m\u001b[43maccess_mode\u001b[49m\u001b[43m,\u001b[49m\u001b[43m \u001b[49m\u001b[43mopen_timeout\u001b[49m\n\u001b[1;32m    283\u001b[0m \u001b[43m    \u001b[49m\u001b[43m)\u001b[49m\n\u001b[1;32m    285\u001b[0m     \u001b[38;5;28;01mif\u001b[39;00m status \u001b[38;5;241m==\u001b[39m constants\u001b[38;5;241m.\u001b[39mStatusCode\u001b[38;5;241m.\u001b[39msuccess_device_not_present:\n\u001b[1;32m    286\u001b[0m         \u001b[38;5;66;03m# The device was not ready when we opened the session.\u001b[39;00m\n\u001b[1;32m    287\u001b[0m         \u001b[38;5;66;03m# Now it gets five seconds more to become ready.\u001b[39;00m\n\u001b[1;32m    288\u001b[0m         \u001b[38;5;66;03m# Every 0.1 seconds we probe it with viClear.\u001b[39;00m\n\u001b[1;32m    289\u001b[0m         start_time \u001b[38;5;241m=\u001b[39m time\u001b[38;5;241m.\u001b[39mtime()\n",
      "File \u001b[0;32m~/.local/lib/python3.10/site-packages/pyvisa/highlevel.py:3217\u001b[0m, in \u001b[0;36mResourceManager.open_bare_resource\u001b[0;34m(self, resource_name, access_mode, open_timeout)\u001b[0m\n\u001b[1;32m   3188\u001b[0m \u001b[38;5;28;01mdef\u001b[39;00m \u001b[38;5;21mopen_bare_resource\u001b[39m(\n\u001b[1;32m   3189\u001b[0m     \u001b[38;5;28mself\u001b[39m,\n\u001b[1;32m   3190\u001b[0m     resource_name: \u001b[38;5;28mstr\u001b[39m,\n\u001b[1;32m   3191\u001b[0m     access_mode: constants\u001b[38;5;241m.\u001b[39mAccessModes \u001b[38;5;241m=\u001b[39m constants\u001b[38;5;241m.\u001b[39mAccessModes\u001b[38;5;241m.\u001b[39mno_lock,\n\u001b[1;32m   3192\u001b[0m     open_timeout: \u001b[38;5;28mint\u001b[39m \u001b[38;5;241m=\u001b[39m constants\u001b[38;5;241m.\u001b[39mVI_TMO_IMMEDIATE,\n\u001b[1;32m   3193\u001b[0m ) \u001b[38;5;241m-\u001b[39m\u001b[38;5;241m>\u001b[39m Tuple[VISASession, StatusCode]:\n\u001b[1;32m   3194\u001b[0m     \u001b[38;5;124;03m\"\"\"Open the specified resource without wrapping into a class.\u001b[39;00m\n\u001b[1;32m   3195\u001b[0m \n\u001b[1;32m   3196\u001b[0m \u001b[38;5;124;03m    Parameters\u001b[39;00m\n\u001b[0;32m   (...)\u001b[0m\n\u001b[1;32m   3215\u001b[0m \n\u001b[1;32m   3216\u001b[0m \u001b[38;5;124;03m    \"\"\"\u001b[39;00m\n\u001b[0;32m-> 3217\u001b[0m     \u001b[38;5;28;01mreturn\u001b[39;00m \u001b[38;5;28;43mself\u001b[39;49m\u001b[38;5;241;43m.\u001b[39;49m\u001b[43mvisalib\u001b[49m\u001b[38;5;241;43m.\u001b[39;49m\u001b[43mopen\u001b[49m\u001b[43m(\u001b[49m\u001b[38;5;28;43mself\u001b[39;49m\u001b[38;5;241;43m.\u001b[39;49m\u001b[43msession\u001b[49m\u001b[43m,\u001b[49m\u001b[43m \u001b[49m\u001b[43mresource_name\u001b[49m\u001b[43m,\u001b[49m\u001b[43m \u001b[49m\u001b[43maccess_mode\u001b[49m\u001b[43m,\u001b[49m\u001b[43m \u001b[49m\u001b[43mopen_timeout\u001b[49m\u001b[43m)\u001b[49m\n",
      "File \u001b[0;32m~/.local/lib/python3.10/site-packages/pyvisa_py/highlevel.py:161\u001b[0m, in \u001b[0;36mPyVisaLibrary.open\u001b[0;34m(self, session, resource_name, access_mode, open_timeout)\u001b[0m\n\u001b[1;32m    157\u001b[0m     parsed \u001b[38;5;241m=\u001b[39m rname\u001b[38;5;241m.\u001b[39mparse_resource_name(resource_name)\n\u001b[1;32m    158\u001b[0m \u001b[38;5;28;01mexcept\u001b[39;00m rname\u001b[38;5;241m.\u001b[39mInvalidResourceName:\n\u001b[1;32m    159\u001b[0m     \u001b[38;5;28;01mreturn\u001b[39;00m (\n\u001b[1;32m    160\u001b[0m         VISASession(\u001b[38;5;241m0\u001b[39m),\n\u001b[0;32m--> 161\u001b[0m         \u001b[38;5;28;43mself\u001b[39;49m\u001b[38;5;241;43m.\u001b[39;49m\u001b[43mhandle_return_value\u001b[49m\u001b[43m(\u001b[49m\u001b[38;5;28;43;01mNone\u001b[39;49;00m\u001b[43m,\u001b[49m\u001b[43m \u001b[49m\u001b[43mStatusCode\u001b[49m\u001b[38;5;241;43m.\u001b[39;49m\u001b[43merror_invalid_resource_name\u001b[49m\u001b[43m)\u001b[49m,\n\u001b[1;32m    162\u001b[0m     )\n\u001b[1;32m    164\u001b[0m \u001b[38;5;28mcls\u001b[39m \u001b[38;5;241m=\u001b[39m sessions\u001b[38;5;241m.\u001b[39mSession\u001b[38;5;241m.\u001b[39mget_session_class(\n\u001b[1;32m    165\u001b[0m     parsed\u001b[38;5;241m.\u001b[39minterface_type_const, parsed\u001b[38;5;241m.\u001b[39mresource_class\n\u001b[1;32m    166\u001b[0m )\n\u001b[1;32m    168\u001b[0m sess \u001b[38;5;241m=\u001b[39m \u001b[38;5;28mcls\u001b[39m(session, resource_name, parsed, open_timeout)\n",
      "File \u001b[0;32m~/.local/lib/python3.10/site-packages/pyvisa/highlevel.py:251\u001b[0m, in \u001b[0;36mVisaLibraryBase.handle_return_value\u001b[0;34m(self, session, status_code)\u001b[0m\n\u001b[1;32m    248\u001b[0m     \u001b[38;5;28mself\u001b[39m\u001b[38;5;241m.\u001b[39m_last_status_in_session[session] \u001b[38;5;241m=\u001b[39m rv\n\u001b[1;32m    250\u001b[0m \u001b[38;5;28;01mif\u001b[39;00m rv \u001b[38;5;241m<\u001b[39m \u001b[38;5;241m0\u001b[39m:\n\u001b[0;32m--> 251\u001b[0m     \u001b[38;5;28;01mraise\u001b[39;00m errors\u001b[38;5;241m.\u001b[39mVisaIOError(rv)\n\u001b[1;32m    253\u001b[0m \u001b[38;5;28;01mif\u001b[39;00m rv \u001b[38;5;129;01min\u001b[39;00m \u001b[38;5;28mself\u001b[39m\u001b[38;5;241m.\u001b[39missue_warning_on:\n\u001b[1;32m    254\u001b[0m     \u001b[38;5;28;01mif\u001b[39;00m session \u001b[38;5;129;01mand\u001b[39;00m rv \u001b[38;5;129;01mnot\u001b[39;00m \u001b[38;5;129;01min\u001b[39;00m \u001b[38;5;28mself\u001b[39m\u001b[38;5;241m.\u001b[39m_ignore_warning_in_session[session]:\n",
      "\u001b[0;31mVisaIOError\u001b[0m: VI_ERROR_INV_RSRC_NAME (-1073807342): Invalid resource reference specified. Parsing error."
     ]
    }
   ],
   "source": [
    "SettingUpDevices() #настраиваем приборы\n",
    "devices_out() #отпускаем приборы\n",
    "  \n"
   ]
  },
  {
   "cell_type": "code",
   "execution_count": null,
   "id": "da7ed345",
   "metadata": {},
   "outputs": [],
   "source": []
  },
  {
   "cell_type": "code",
   "execution_count": null,
   "id": "a62530ac",
   "metadata": {},
   "outputs": [],
   "source": []
  },
  {
   "cell_type": "code",
   "execution_count": null,
   "id": "79bafe25",
   "metadata": {},
   "outputs": [],
   "source": []
  },
  {
   "cell_type": "code",
   "execution_count": null,
   "id": "e0badd7b",
   "metadata": {},
   "outputs": [],
   "source": []
  },
  {
   "cell_type": "code",
   "execution_count": null,
   "id": "838055c3",
   "metadata": {},
   "outputs": [],
   "source": []
  },
  {
   "cell_type": "code",
   "execution_count": null,
   "id": "1f97090c",
   "metadata": {},
   "outputs": [],
   "source": []
  },
  {
   "cell_type": "code",
   "execution_count": null,
   "id": "28b70d88",
   "metadata": {},
   "outputs": [],
   "source": []
  },
  {
   "cell_type": "code",
   "execution_count": null,
   "id": "9b25dc97",
   "metadata": {},
   "outputs": [],
   "source": []
  },
  {
   "cell_type": "code",
   "execution_count": null,
   "id": "d0f48927",
   "metadata": {},
   "outputs": [],
   "source": []
  },
  {
   "cell_type": "code",
   "execution_count": null,
   "id": "b53e559c",
   "metadata": {},
   "outputs": [],
   "source": []
  },
  {
   "cell_type": "code",
   "execution_count": null,
   "id": "6f3bd144",
   "metadata": {},
   "outputs": [],
   "source": []
  },
  {
   "cell_type": "code",
   "execution_count": null,
   "id": "6bcace3c",
   "metadata": {},
   "outputs": [],
   "source": []
  },
  {
   "cell_type": "code",
   "execution_count": null,
   "id": "0b32abdd",
   "metadata": {},
   "outputs": [],
   "source": []
  },
  {
   "cell_type": "code",
   "execution_count": null,
   "id": "b4a2451a",
   "metadata": {},
   "outputs": [],
   "source": []
  },
  {
   "cell_type": "code",
   "execution_count": null,
   "id": "741fe445",
   "metadata": {},
   "outputs": [],
   "source": []
  },
  {
   "cell_type": "code",
   "execution_count": null,
   "id": "ad39507e",
   "metadata": {},
   "outputs": [],
   "source": []
  },
  {
   "cell_type": "code",
   "execution_count": null,
   "id": "998a625f",
   "metadata": {},
   "outputs": [],
   "source": []
  }
 ],
 "metadata": {
  "kernelspec": {
   "display_name": "Python 3 (ipykernel)",
   "language": "python",
   "name": "python3"
  },
  "language_info": {
   "codemirror_mode": {
    "name": "ipython",
    "version": 3
   },
   "file_extension": ".py",
   "mimetype": "text/x-python",
   "name": "python",
   "nbconvert_exporter": "python",
   "pygments_lexer": "ipython3",
   "version": "3.10.12"
  }
 },
 "nbformat": 4,
 "nbformat_minor": 5
}
